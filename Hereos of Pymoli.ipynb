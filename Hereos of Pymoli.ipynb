{
 "cells": [
  {
   "cell_type": "code",
   "execution_count": 1,
   "metadata": {},
   "outputs": [],
   "source": [
    "import pandas as pd\n",
    "import numpy as np"
   ]
  },
  {
   "cell_type": "code",
   "execution_count": 2,
   "metadata": {
    "scrolled": true
   },
   "outputs": [],
   "source": [
    "purchase_data_df = pd.read_json(\"purchase_data.json\")\n",
    "purchase_data_df = purchase_data_df.rename(columns={'Item ID': 'Item_ID', 'Item Name': 'Item_Name'})"
   ]
  },
  {
   "cell_type": "code",
   "execution_count": 3,
   "metadata": {},
   "outputs": [],
   "source": [
    "#Player Count\n",
    "number_of_players = purchase_data_df.SN.nunique()"
   ]
  },
  {
   "cell_type": "code",
   "execution_count": 4,
   "metadata": {},
   "outputs": [
    {
     "data": {
      "text/html": [
       "<div>\n",
       "<style scoped>\n",
       "    .dataframe tbody tr th:only-of-type {\n",
       "        vertical-align: middle;\n",
       "    }\n",
       "\n",
       "    .dataframe tbody tr th {\n",
       "        vertical-align: top;\n",
       "    }\n",
       "\n",
       "    .dataframe thead th {\n",
       "        text-align: right;\n",
       "    }\n",
       "</style>\n",
       "<table border=\"1\" class=\"dataframe\">\n",
       "  <thead>\n",
       "    <tr style=\"text-align: right;\">\n",
       "      <th></th>\n",
       "      <th>Total Players</th>\n",
       "    </tr>\n",
       "  </thead>\n",
       "  <tbody>\n",
       "    <tr>\n",
       "      <th>0</th>\n",
       "      <td>573</td>\n",
       "    </tr>\n",
       "  </tbody>\n",
       "</table>\n",
       "</div>"
      ],
      "text/plain": [
       "   Total Players\n",
       "0            573"
      ]
     },
     "execution_count": 4,
     "metadata": {},
     "output_type": "execute_result"
    }
   ],
   "source": [
    "total_players = {\"Total Players\": [number_of_players]}\n",
    "total_players_df = pd.DataFrame(total_players)\n",
    "total_players_df"
   ]
  },
  {
   "cell_type": "code",
   "execution_count": 5,
   "metadata": {},
   "outputs": [],
   "source": [
    "# Purchasing Analysis (Total)"
   ]
  },
  {
   "cell_type": "code",
   "execution_count": 6,
   "metadata": {},
   "outputs": [],
   "source": [
    "unique_items = purchase_data_df[\"Item_Name\"].nunique()"
   ]
  },
  {
   "cell_type": "code",
   "execution_count": 7,
   "metadata": {},
   "outputs": [],
   "source": [
    "average_purchase_price = purchase_data_df.Price.mean()"
   ]
  },
  {
   "cell_type": "code",
   "execution_count": 8,
   "metadata": {},
   "outputs": [],
   "source": [
    "number_of_purchases = purchase_data_df.Age.count()"
   ]
  },
  {
   "cell_type": "code",
   "execution_count": 9,
   "metadata": {},
   "outputs": [],
   "source": [
    "total_revenue = purchase_data_df['Price'].sum()"
   ]
  },
  {
   "cell_type": "code",
   "execution_count": 10,
   "metadata": {},
   "outputs": [
    {
     "data": {
      "text/html": [
       "<div>\n",
       "<style scoped>\n",
       "    .dataframe tbody tr th:only-of-type {\n",
       "        vertical-align: middle;\n",
       "    }\n",
       "\n",
       "    .dataframe tbody tr th {\n",
       "        vertical-align: top;\n",
       "    }\n",
       "\n",
       "    .dataframe thead th {\n",
       "        text-align: right;\n",
       "    }\n",
       "</style>\n",
       "<table border=\"1\" class=\"dataframe\">\n",
       "  <thead>\n",
       "    <tr style=\"text-align: right;\">\n",
       "      <th></th>\n",
       "      <th>Average Purchase Price</th>\n",
       "      <th>Number of Unique Items</th>\n",
       "      <th>Total Number of Purchases</th>\n",
       "      <th>Total Revenue</th>\n",
       "    </tr>\n",
       "  </thead>\n",
       "  <tbody>\n",
       "    <tr>\n",
       "      <th>0</th>\n",
       "      <td>$2.93</td>\n",
       "      <td>179</td>\n",
       "      <td>780</td>\n",
       "      <td>$2,286.33</td>\n",
       "    </tr>\n",
       "  </tbody>\n",
       "</table>\n",
       "</div>"
      ],
      "text/plain": [
       "  Average Purchase Price  Number of Unique Items  Total Number of Purchases  \\\n",
       "0                  $2.93                     179                        780   \n",
       "\n",
       "  Total Revenue  \n",
       "0     $2,286.33  "
      ]
     },
     "execution_count": 10,
     "metadata": {},
     "output_type": "execute_result"
    }
   ],
   "source": [
    "purchasing_analysis = {\n",
    "    \"Number of Unique Items\": [unique_items], \n",
    "    \"Average Purchase Price\": [average_purchase_price], \n",
    "    \"Total Number of Purchases\": [number_of_purchases],\n",
    "    \"Total Revenue\": [total_revenue]\n",
    "        }\n",
    "purchasing_analysis_df = pd.DataFrame(purchasing_analysis)\n",
    "\n",
    "\n",
    "purchasing_analysis_df['Average Purchase Price'] = purchasing_analysis_df['Average Purchase Price'].map('${0:,.2f}'.format)\n",
    "purchasing_analysis_df['Total Revenue'] = purchasing_analysis_df['Total Revenue'].map('${0:,.2f}'.format)\n",
    "purchasing_analysis_df"
   ]
  },
  {
   "cell_type": "code",
   "execution_count": 11,
   "metadata": {},
   "outputs": [],
   "source": [
    "# Gender Demographics"
   ]
  },
  {
   "cell_type": "code",
   "execution_count": 12,
   "metadata": {},
   "outputs": [],
   "source": [
    "number_of_males = purchase_data_df.groupby([\"Gender\", \"SN\"]).SN.nunique().Male.sum()\n",
    "number_of_females = purchase_data_df.groupby([\"Gender\", \"SN\"]).SN.nunique().Female.sum()\n",
    "number_of_other_gender = purchase_data_df.groupby([\"Gender\", \"SN\"]).SN.nunique()['Other / Non-Disclosed'].sum()"
   ]
  },
  {
   "cell_type": "code",
   "execution_count": 13,
   "metadata": {},
   "outputs": [],
   "source": [
    "percent_males = number_of_males / number_of_players \n",
    "percent_females = number_of_females / number_of_players\n",
    "percent_other = number_of_other_gender / number_of_players"
   ]
  },
  {
   "cell_type": "code",
   "execution_count": 14,
   "metadata": {},
   "outputs": [
    {
     "data": {
      "text/html": [
       "<div>\n",
       "<style scoped>\n",
       "    .dataframe tbody tr th:only-of-type {\n",
       "        vertical-align: middle;\n",
       "    }\n",
       "\n",
       "    .dataframe tbody tr th {\n",
       "        vertical-align: top;\n",
       "    }\n",
       "\n",
       "    .dataframe thead th {\n",
       "        text-align: right;\n",
       "    }\n",
       "</style>\n",
       "<table border=\"1\" class=\"dataframe\">\n",
       "  <thead>\n",
       "    <tr style=\"text-align: right;\">\n",
       "      <th></th>\n",
       "      <th>Percentage of Players</th>\n",
       "      <th>Total Count</th>\n",
       "    </tr>\n",
       "    <tr>\n",
       "      <th>Gender</th>\n",
       "      <th></th>\n",
       "      <th></th>\n",
       "    </tr>\n",
       "  </thead>\n",
       "  <tbody>\n",
       "    <tr>\n",
       "      <th>Male</th>\n",
       "      <td>81.15%</td>\n",
       "      <td>465</td>\n",
       "    </tr>\n",
       "    <tr>\n",
       "      <th>Female</th>\n",
       "      <td>17.45%</td>\n",
       "      <td>100</td>\n",
       "    </tr>\n",
       "    <tr>\n",
       "      <th>Other</th>\n",
       "      <td>1.40%</td>\n",
       "      <td>8</td>\n",
       "    </tr>\n",
       "  </tbody>\n",
       "</table>\n",
       "</div>"
      ],
      "text/plain": [
       "       Percentage of Players  Total Count\n",
       "Gender                                   \n",
       "Male                  81.15%          465\n",
       "Female                17.45%          100\n",
       "Other                  1.40%            8"
      ]
     },
     "execution_count": 14,
     "metadata": {},
     "output_type": "execute_result"
    }
   ],
   "source": [
    "gender_demographics = {\n",
    "    \"Gender\": [\"Male\", \"Female\", \"Other\"],\n",
    "    \"Percentage of Players\": [percent_males, percent_females, percent_other],\n",
    "    \"Total Count\": [number_of_males, number_of_females, number_of_other_gender],\n",
    "}\n",
    "gender_demographics_df = pd.DataFrame(gender_demographics).set_index(\"Gender\")\n",
    "\n",
    "gender_demographics_df['Percentage of Players'] = gender_demographics_df['Percentage of Players'].map('{:.2%}'.format)\n",
    "gender_demographics_df"
   ]
  },
  {
   "cell_type": "code",
   "execution_count": 15,
   "metadata": {},
   "outputs": [],
   "source": [
    "# Purchasing Analysis (Gender)"
   ]
  },
  {
   "cell_type": "code",
   "execution_count": 16,
   "metadata": {},
   "outputs": [],
   "source": [
    "gender_df = purchase_data_df.groupby('Gender')"
   ]
  },
  {
   "cell_type": "code",
   "execution_count": 17,
   "metadata": {},
   "outputs": [],
   "source": [
    "male_purchase_count = gender_df.count().Age.Male\n",
    "female_purchase_count = gender_df.count().Age.Female\n",
    "other_purchase_count = gender_df.count().Age[\"Other / Non-Disclosed\"]"
   ]
  },
  {
   "cell_type": "code",
   "execution_count": 18,
   "metadata": {},
   "outputs": [],
   "source": [
    "f_avg_purchase_price = gender_df.mean().Price.Female\n",
    "m_avg_purchase_price = gender_df.mean().Price.Male\n",
    "o_avg_purchase_price = gender_df.mean().Price[\"Other / Non-Disclosed\"]"
   ]
  },
  {
   "cell_type": "code",
   "execution_count": 19,
   "metadata": {},
   "outputs": [],
   "source": [
    "f_total_purchase_value = gender_df.sum().Price.Female\n",
    "m_total_purchase_value = gender_df.sum().Price.Male\n",
    "o_total_purchase_value = gender_df.sum().Price[\"Other / Non-Disclosed\"]"
   ]
  },
  {
   "cell_type": "code",
   "execution_count": 20,
   "metadata": {},
   "outputs": [
    {
     "data": {
      "text/html": [
       "<div>\n",
       "<style scoped>\n",
       "    .dataframe tbody tr th:only-of-type {\n",
       "        vertical-align: middle;\n",
       "    }\n",
       "\n",
       "    .dataframe tbody tr th {\n",
       "        vertical-align: top;\n",
       "    }\n",
       "\n",
       "    .dataframe thead th {\n",
       "        text-align: right;\n",
       "    }\n",
       "</style>\n",
       "<table border=\"1\" class=\"dataframe\">\n",
       "  <thead>\n",
       "    <tr style=\"text-align: right;\">\n",
       "      <th></th>\n",
       "      <th>Average Purchase Price</th>\n",
       "      <th>Purchase Count</th>\n",
       "      <th>Total Purchase Value</th>\n",
       "    </tr>\n",
       "    <tr>\n",
       "      <th>Gender</th>\n",
       "      <th></th>\n",
       "      <th></th>\n",
       "      <th></th>\n",
       "    </tr>\n",
       "  </thead>\n",
       "  <tbody>\n",
       "    <tr>\n",
       "      <th>Female</th>\n",
       "      <td>$2.82</td>\n",
       "      <td>136</td>\n",
       "      <td>$382.91</td>\n",
       "    </tr>\n",
       "    <tr>\n",
       "      <th>Male</th>\n",
       "      <td>$2.95</td>\n",
       "      <td>633</td>\n",
       "      <td>$1,867.68</td>\n",
       "    </tr>\n",
       "    <tr>\n",
       "      <th>Other / Non-Disclosed</th>\n",
       "      <td>$3.25</td>\n",
       "      <td>11</td>\n",
       "      <td>$35.74</td>\n",
       "    </tr>\n",
       "  </tbody>\n",
       "</table>\n",
       "</div>"
      ],
      "text/plain": [
       "                      Average Purchase Price  Purchase Count  \\\n",
       "Gender                                                         \n",
       "Female                                 $2.82             136   \n",
       "Male                                   $2.95             633   \n",
       "Other / Non-Disclosed                  $3.25              11   \n",
       "\n",
       "                      Total Purchase Value  \n",
       "Gender                                      \n",
       "Female                             $382.91  \n",
       "Male                             $1,867.68  \n",
       "Other / Non-Disclosed               $35.74  "
      ]
     },
     "execution_count": 20,
     "metadata": {},
     "output_type": "execute_result"
    }
   ],
   "source": [
    "purchasing_analysis = {\n",
    "    \"Gender\": [\"Female\", \"Male\", \"Other / Non-Disclosed\"],\n",
    "    \"Purchase Count\": [female_purchase_count, male_purchase_count, other_purchase_count],\n",
    "    \"Average Purchase Price\": [f_avg_purchase_price, m_avg_purchase_price, o_avg_purchase_price],\n",
    "    \"Total Purchase Value\": [f_total_purchase_value, m_total_purchase_value, o_total_purchase_value], \n",
    "    #\"Normalized Totals\": [(purchase_data_df[purchase_data_df.Gender == \"Male\"].groupby(\"SN\").Age.count().mean() - f_average_purchase_price) / purchase_data_df.Price.std()]\n",
    "    # normalized totals (  -  ) / purchase_data_df.Price.std() )\n",
    "}\n",
    "purchasing_analysis_df = pd.DataFrame(purchasing_analysis).set_index(\"Gender\")\n",
    "\n",
    "purchasing_analysis_df['Average Purchase Price'] = purchasing_analysis_df['Average Purchase Price'].map('${0:,.2f}'.format)\n",
    "purchasing_analysis_df['Total Purchase Value'] = purchasing_analysis_df['Total Purchase Value'].map('${0:,.2f}'.format)\n",
    "purchasing_analysis_df"
   ]
  },
  {
   "cell_type": "code",
   "execution_count": 21,
   "metadata": {},
   "outputs": [],
   "source": [
    "# Age Demographics"
   ]
  },
  {
   "cell_type": "code",
   "execution_count": 22,
   "metadata": {},
   "outputs": [],
   "source": [
    "np.arange(10,100,4)\n",
    "age_bins = [0, 10, 14, 18, 22, 26, 30, 34, 38, 42, 46, 100]"
   ]
  },
  {
   "cell_type": "code",
   "execution_count": 23,
   "metadata": {
    "scrolled": true
   },
   "outputs": [],
   "source": [
    "purchase_data_df['Age_Group'] = pd.cut(purchase_data_df['Age'], age_bins)"
   ]
  },
  {
   "cell_type": "code",
   "execution_count": 24,
   "metadata": {},
   "outputs": [],
   "source": [
    "age_groups = purchase_data_df.groupby('Age_Group')"
   ]
  },
  {
   "cell_type": "code",
   "execution_count": 25,
   "metadata": {},
   "outputs": [],
   "source": [
    "age_bins_list = age_groups.count().Age.index.tolist()\n",
    "by_age_purchase_count = age_groups.count().Age.tolist()\n",
    "by_age_average_purchase_price = age_groups.mean().Price.tolist()\n",
    "by_age_total_purchase_value = age_groups.sum().Price.tolist()"
   ]
  },
  {
   "cell_type": "code",
   "execution_count": 26,
   "metadata": {},
   "outputs": [
    {
     "data": {
      "text/html": [
       "<div>\n",
       "<style scoped>\n",
       "    .dataframe tbody tr th:only-of-type {\n",
       "        vertical-align: middle;\n",
       "    }\n",
       "\n",
       "    .dataframe tbody tr th {\n",
       "        vertical-align: top;\n",
       "    }\n",
       "\n",
       "    .dataframe thead th {\n",
       "        text-align: right;\n",
       "    }\n",
       "</style>\n",
       "<table border=\"1\" class=\"dataframe\">\n",
       "  <thead>\n",
       "    <tr style=\"text-align: right;\">\n",
       "      <th></th>\n",
       "      <th>Purchase Count</th>\n",
       "      <th>Average Purchase Price</th>\n",
       "      <th>Total Purchase Value</th>\n",
       "    </tr>\n",
       "    <tr>\n",
       "      <th>Age Groups</th>\n",
       "      <th></th>\n",
       "      <th></th>\n",
       "      <th></th>\n",
       "    </tr>\n",
       "  </thead>\n",
       "  <tbody>\n",
       "    <tr>\n",
       "      <th>(0, 10]</th>\n",
       "      <td>32</td>\n",
       "      <td>$3.02</td>\n",
       "      <td>$96.62</td>\n",
       "    </tr>\n",
       "    <tr>\n",
       "      <th>(10, 14]</th>\n",
       "      <td>31</td>\n",
       "      <td>$2.70</td>\n",
       "      <td>$83.79</td>\n",
       "    </tr>\n",
       "    <tr>\n",
       "      <th>(14, 18]</th>\n",
       "      <td>111</td>\n",
       "      <td>$2.88</td>\n",
       "      <td>$319.32</td>\n",
       "    </tr>\n",
       "    <tr>\n",
       "      <th>(18, 22]</th>\n",
       "      <td>231</td>\n",
       "      <td>$2.93</td>\n",
       "      <td>$676.20</td>\n",
       "    </tr>\n",
       "    <tr>\n",
       "      <th>(22, 26]</th>\n",
       "      <td>207</td>\n",
       "      <td>$2.94</td>\n",
       "      <td>$608.02</td>\n",
       "    </tr>\n",
       "    <tr>\n",
       "      <th>(26, 30]</th>\n",
       "      <td>63</td>\n",
       "      <td>$2.98</td>\n",
       "      <td>$187.99</td>\n",
       "    </tr>\n",
       "    <tr>\n",
       "      <th>(30, 34]</th>\n",
       "      <td>46</td>\n",
       "      <td>$3.07</td>\n",
       "      <td>$141.24</td>\n",
       "    </tr>\n",
       "    <tr>\n",
       "      <th>(34, 38]</th>\n",
       "      <td>37</td>\n",
       "      <td>$2.81</td>\n",
       "      <td>$104.06</td>\n",
       "    </tr>\n",
       "    <tr>\n",
       "      <th>(38, 42]</th>\n",
       "      <td>20</td>\n",
       "      <td>$3.13</td>\n",
       "      <td>$62.56</td>\n",
       "    </tr>\n",
       "    <tr>\n",
       "      <th>(42, 46]</th>\n",
       "      <td>2</td>\n",
       "      <td>$3.26</td>\n",
       "      <td>$6.53</td>\n",
       "    </tr>\n",
       "    <tr>\n",
       "      <th>(46, 100]</th>\n",
       "      <td>0</td>\n",
       "      <td>$nan</td>\n",
       "      <td>$0.00</td>\n",
       "    </tr>\n",
       "  </tbody>\n",
       "</table>\n",
       "</div>"
      ],
      "text/plain": [
       "            Purchase Count Average Purchase Price Total Purchase Value\n",
       "Age Groups                                                            \n",
       "(0, 10]                 32                  $3.02               $96.62\n",
       "(10, 14]                31                  $2.70               $83.79\n",
       "(14, 18]               111                  $2.88              $319.32\n",
       "(18, 22]               231                  $2.93              $676.20\n",
       "(22, 26]               207                  $2.94              $608.02\n",
       "(26, 30]                63                  $2.98              $187.99\n",
       "(30, 34]                46                  $3.07              $141.24\n",
       "(34, 38]                37                  $2.81              $104.06\n",
       "(38, 42]                20                  $3.13               $62.56\n",
       "(42, 46]                 2                  $3.26                $6.53\n",
       "(46, 100]                0                   $nan                $0.00"
      ]
     },
     "execution_count": 26,
     "metadata": {},
     "output_type": "execute_result"
    }
   ],
   "source": [
    "age_demographics = [('Age Groups', age_bins_list),\n",
    "                    ('Purchase Count', by_age_purchase_count),\n",
    "                    ('Average Purchase Price', by_age_average_purchase_price),\n",
    "                    ('Total Purchase Value', by_age_total_purchase_value),\n",
    "                   # ('Normalized Totals', np.arange(0,11, 1))\n",
    "                          ]\n",
    "age_demographics_df = pd.DataFrame.from_items(age_demographics).set_index('Age Groups')\n",
    "\n",
    "age_demographics_df['Average Purchase Price'] = age_demographics_df['Average Purchase Price'].map('${0:,.2f}'.format)\n",
    "age_demographics_df['Total Purchase Value'] = age_demographics_df['Total Purchase Value'].map('${0:,.2f}'.format)\n",
    "age_demographics_df"
   ]
  },
  {
   "cell_type": "code",
   "execution_count": 27,
   "metadata": {},
   "outputs": [],
   "source": [
    "# Top Spenders"
   ]
  },
  {
   "cell_type": "code",
   "execution_count": 28,
   "metadata": {},
   "outputs": [],
   "source": [
    "sn_groups = purchase_data_df.groupby('SN')"
   ]
  },
  {
   "cell_type": "code",
   "execution_count": 29,
   "metadata": {},
   "outputs": [
    {
     "data": {
      "text/plain": [
       "SN\n",
       "Undirrala66    17.06\n",
       "Saedue76       13.56\n",
       "Mindimnya67    12.74\n",
       "Haellysu29     12.73\n",
       "Eoda93         11.58\n",
       "Name: Price, dtype: float64"
      ]
     },
     "execution_count": 29,
     "metadata": {},
     "output_type": "execute_result"
    }
   ],
   "source": [
    "top_5_total_purchase_value = sn_groups.sum().Price.nlargest(n=5)\n",
    "top_5_total_purchase_value"
   ]
  },
  {
   "cell_type": "code",
   "execution_count": 30,
   "metadata": {},
   "outputs": [
    {
     "data": {
      "text/plain": [
       "['Undirrala66', 'Saedue76', 'Mindimnya67', 'Haellysu29', 'Eoda93']"
      ]
     },
     "execution_count": 30,
     "metadata": {},
     "output_type": "execute_result"
    }
   ],
   "source": [
    "top_5_total_purchase_value_list = top_5_total_purchase_value.index.tolist()\n",
    "top_5_total_purchase_value_list"
   ]
  },
  {
   "cell_type": "code",
   "execution_count": 31,
   "metadata": {},
   "outputs": [],
   "source": [
    "top_5_total_purchase_value_df = purchase_data_df[purchase_data_df.SN.isin(top_5_total_purchase_value_list)].groupby(\"SN\")"
   ]
  },
  {
   "cell_type": "code",
   "execution_count": 32,
   "metadata": {
    "scrolled": true
   },
   "outputs": [
    {
     "data": {
      "text/plain": [
       "SN\n",
       "Eoda93         11.58\n",
       "Haellysu29     12.73\n",
       "Mindimnya67    12.74\n",
       "Saedue76       13.56\n",
       "Undirrala66    17.06\n",
       "Name: Price, dtype: float64"
      ]
     },
     "execution_count": 32,
     "metadata": {},
     "output_type": "execute_result"
    }
   ],
   "source": [
    "top_5_purchase_count = top_5_total_purchase_value_df.Price.count()\n",
    "top_5_avg_price = top_5_total_purchase_value_df.Price.mean()\n",
    "top_5_purchase_value = top_5_total_purchase_value_df.Price.sum()\n",
    "top_5_purchase_value"
   ]
  },
  {
   "cell_type": "code",
   "execution_count": 33,
   "metadata": {},
   "outputs": [
    {
     "data": {
      "text/html": [
       "<div>\n",
       "<style scoped>\n",
       "    .dataframe tbody tr th:only-of-type {\n",
       "        vertical-align: middle;\n",
       "    }\n",
       "\n",
       "    .dataframe tbody tr th {\n",
       "        vertical-align: top;\n",
       "    }\n",
       "\n",
       "    .dataframe thead th {\n",
       "        text-align: right;\n",
       "    }\n",
       "</style>\n",
       "<table border=\"1\" class=\"dataframe\">\n",
       "  <thead>\n",
       "    <tr style=\"text-align: right;\">\n",
       "      <th></th>\n",
       "      <th>Purchase Count</th>\n",
       "      <th>Average Purchase Price</th>\n",
       "      <th>Total Purchase Value</th>\n",
       "    </tr>\n",
       "    <tr>\n",
       "      <th>SN</th>\n",
       "      <th></th>\n",
       "      <th></th>\n",
       "      <th></th>\n",
       "    </tr>\n",
       "  </thead>\n",
       "  <tbody>\n",
       "    <tr>\n",
       "      <th>Eoda93</th>\n",
       "      <td>5</td>\n",
       "      <td>$3.41</td>\n",
       "      <td>$17.06</td>\n",
       "    </tr>\n",
       "    <tr>\n",
       "      <th>Haellysu29</th>\n",
       "      <td>4</td>\n",
       "      <td>$3.39</td>\n",
       "      <td>$13.56</td>\n",
       "    </tr>\n",
       "    <tr>\n",
       "      <th>Mindimnya67</th>\n",
       "      <td>4</td>\n",
       "      <td>$3.18</td>\n",
       "      <td>$12.74</td>\n",
       "    </tr>\n",
       "    <tr>\n",
       "      <th>Saedue76</th>\n",
       "      <td>3</td>\n",
       "      <td>$4.24</td>\n",
       "      <td>$12.73</td>\n",
       "    </tr>\n",
       "    <tr>\n",
       "      <th>Undirrala66</th>\n",
       "      <td>3</td>\n",
       "      <td>$3.86</td>\n",
       "      <td>$11.58</td>\n",
       "    </tr>\n",
       "  </tbody>\n",
       "</table>\n",
       "</div>"
      ],
      "text/plain": [
       "             Purchase Count Average Purchase Price Total Purchase Value\n",
       "SN                                                                     \n",
       "Eoda93                    5                  $3.41               $17.06\n",
       "Haellysu29                4                  $3.39               $13.56\n",
       "Mindimnya67               4                  $3.18               $12.74\n",
       "Saedue76                  3                  $4.24               $12.73\n",
       "Undirrala66               3                  $3.86               $11.58"
      ]
     },
     "execution_count": 33,
     "metadata": {},
     "output_type": "execute_result"
    }
   ],
   "source": [
    "# Top 5 Spenders Table\n",
    "\n",
    "top_spenders_table = [('SN', top_5_total_purchase_value_list),\n",
    "                    ('Purchase Count', top_5_purchase_count),\n",
    "                    ('Average Purchase Price', top_5_avg_price),\n",
    "                    ('Total Purchase Value', top_5_purchase_value),]\n",
    "top_spenders_df = pd.DataFrame.from_items(top_spenders_table).sort_values(\"Total Purchase Value\", ascending=False).set_index('SN')\n",
    "top_spenders_df\n",
    "\n",
    "top_spenders_df['Average Purchase Price'] = top_spenders_df['Average Purchase Price'].map('${0:,.2f}'.format)\n",
    "top_spenders_df['Total Purchase Value'] = top_spenders_df['Total Purchase Value'].map('${0:,.2f}'.format)\n",
    "top_spenders_df"
   ]
  },
  {
   "cell_type": "code",
   "execution_count": 34,
   "metadata": {},
   "outputs": [],
   "source": [
    "# Most Popular Items"
   ]
  },
  {
   "cell_type": "code",
   "execution_count": 35,
   "metadata": {},
   "outputs": [
    {
     "data": {
      "text/plain": [
       "['Final Critic',\n",
       " 'Arcane Gem',\n",
       " 'Betrayal, Whisper of Grieving Widows',\n",
       " 'Stormcaller',\n",
       " 'Retribution Axe']"
      ]
     },
     "execution_count": 35,
     "metadata": {},
     "output_type": "execute_result"
    }
   ],
   "source": [
    "item_name_groups = purchase_data_df.groupby(\"Item_Name\")\n",
    "item_name_list = item_name_groups.Item_Name.count().nlargest(n=5).index.tolist()\n",
    "item_name_list"
   ]
  },
  {
   "cell_type": "code",
   "execution_count": 36,
   "metadata": {},
   "outputs": [],
   "source": [
    "# Data frame with only the most popular items\n",
    "popular_items_df = purchase_data_df[purchase_data_df.Item_Name.isin(item_name_list)]"
   ]
  },
  {
   "cell_type": "code",
   "execution_count": 37,
   "metadata": {},
   "outputs": [
    {
     "data": {
      "text/plain": [
       "[14, 11, 11, 10, 9]"
      ]
     },
     "execution_count": 37,
     "metadata": {},
     "output_type": "execute_result"
    }
   ],
   "source": [
    "#purchase count\n",
    "pop_items_purchase_count_list = popular_items_df.Item_Name.value_counts()\n",
    "pop_items_purchase_count_list.tolist()"
   ]
  },
  {
   "cell_type": "code",
   "execution_count": 38,
   "metadata": {
    "scrolled": true
   },
   "outputs": [
    {
     "data": {
      "text/plain": [
       "[92, 84, 39, 30, 34]"
      ]
     },
     "execution_count": 38,
     "metadata": {},
     "output_type": "execute_result"
    }
   ],
   "source": [
    "#Item IDs\n",
    "item_id_list = []\n",
    "\n",
    "for item_name in item_name_list:\n",
    "    item_something = purchase_data_df['Item_ID'].loc[purchase_data_df['Item_Name'] == item_name]\n",
    "    temp_id_list = item_something.tolist()\n",
    "    item_id_list.append(temp_id_list[0])\n",
    "item_id_list\n"
   ]
  },
  {
   "cell_type": "code",
   "execution_count": 39,
   "metadata": {},
   "outputs": [
    {
     "data": {
      "text/plain": [
       "[1.3599999999999999, 2.23, 2.35, 4.15, 4.14]"
      ]
     },
     "execution_count": 39,
     "metadata": {},
     "output_type": "execute_result"
    }
   ],
   "source": [
    "#Item Price\n",
    "item_price_list = []\n",
    "for item_name in item_name_list:\n",
    "    item_something = purchase_data_df['Price'].loc[purchase_data_df['Item_Name'] == item_name]\n",
    "    temp_id_list = item_something.tolist()\n",
    "    item_price_list.append(temp_id_list[0])\n",
    "item_price_list\n",
    "\n"
   ]
  },
  {
   "cell_type": "code",
   "execution_count": 40,
   "metadata": {},
   "outputs": [
    {
     "data": {
      "text/plain": [
       "[38.599999999999994, 24.53, 25.850000000000005, 34.65, 37.26]"
      ]
     },
     "execution_count": 40,
     "metadata": {},
     "output_type": "execute_result"
    }
   ],
   "source": [
    "# total purchase value\n",
    "item_purchase_value_list = []\n",
    "for item_name in item_name_list:\n",
    "    item_purchase_value_list.append(popular_items_df.groupby(\"Item_Name\").Price.sum()[item_name])\n",
    "item_purchase_value_list"
   ]
  },
  {
   "cell_type": "code",
   "execution_count": 41,
   "metadata": {},
   "outputs": [
    {
     "data": {
      "text/html": [
       "<div>\n",
       "<style scoped>\n",
       "    .dataframe tbody tr th:only-of-type {\n",
       "        vertical-align: middle;\n",
       "    }\n",
       "\n",
       "    .dataframe tbody tr th {\n",
       "        vertical-align: top;\n",
       "    }\n",
       "\n",
       "    .dataframe thead th {\n",
       "        text-align: right;\n",
       "    }\n",
       "</style>\n",
       "<table border=\"1\" class=\"dataframe\">\n",
       "  <thead>\n",
       "    <tr style=\"text-align: right;\">\n",
       "      <th></th>\n",
       "      <th>Item Name</th>\n",
       "      <th>Purchase Count</th>\n",
       "      <th>Item Price</th>\n",
       "      <th>Total Purchase Value</th>\n",
       "    </tr>\n",
       "    <tr>\n",
       "      <th>Item ID</th>\n",
       "      <th></th>\n",
       "      <th></th>\n",
       "      <th></th>\n",
       "      <th></th>\n",
       "    </tr>\n",
       "  </thead>\n",
       "  <tbody>\n",
       "    <tr>\n",
       "      <th>92</th>\n",
       "      <td>Final Critic</td>\n",
       "      <td>14</td>\n",
       "      <td>$1.36</td>\n",
       "      <td>$38.60</td>\n",
       "    </tr>\n",
       "    <tr>\n",
       "      <th>84</th>\n",
       "      <td>Arcane Gem</td>\n",
       "      <td>11</td>\n",
       "      <td>$2.23</td>\n",
       "      <td>$24.53</td>\n",
       "    </tr>\n",
       "    <tr>\n",
       "      <th>39</th>\n",
       "      <td>Betrayal, Whisper of Grieving Widows</td>\n",
       "      <td>11</td>\n",
       "      <td>$2.35</td>\n",
       "      <td>$25.85</td>\n",
       "    </tr>\n",
       "    <tr>\n",
       "      <th>30</th>\n",
       "      <td>Stormcaller</td>\n",
       "      <td>10</td>\n",
       "      <td>$4.15</td>\n",
       "      <td>$34.65</td>\n",
       "    </tr>\n",
       "    <tr>\n",
       "      <th>34</th>\n",
       "      <td>Retribution Axe</td>\n",
       "      <td>9</td>\n",
       "      <td>$4.14</td>\n",
       "      <td>$37.26</td>\n",
       "    </tr>\n",
       "  </tbody>\n",
       "</table>\n",
       "</div>"
      ],
      "text/plain": [
       "                                    Item Name  Purchase Count Item Price  \\\n",
       "Item ID                                                                    \n",
       "92                               Final Critic              14      $1.36   \n",
       "84                                 Arcane Gem              11      $2.23   \n",
       "39       Betrayal, Whisper of Grieving Widows              11      $2.35   \n",
       "30                                Stormcaller              10      $4.15   \n",
       "34                            Retribution Axe               9      $4.14   \n",
       "\n",
       "        Total Purchase Value  \n",
       "Item ID                       \n",
       "92                    $38.60  \n",
       "84                    $24.53  \n",
       "39                    $25.85  \n",
       "30                    $34.65  \n",
       "34                    $37.26  "
      ]
     },
     "execution_count": 41,
     "metadata": {},
     "output_type": "execute_result"
    }
   ],
   "source": [
    "# Most Popular Items Table\n",
    "\n",
    "top_popular_items_table = [('Item ID', item_id_list),\n",
    "                    ('Item Name', item_name_list),\n",
    "                    ('Purchase Count', pop_items_purchase_count_list.tolist()),\n",
    "                    ('Item Price', item_price_list),\n",
    "                    ('Total Purchase Value', item_purchase_value_list)]\n",
    "top_5_items_df = pd.DataFrame.from_items(top_popular_items_table).sort_values(\"Purchase Count\", ascending=False).set_index(\"Item ID\")\n",
    "\n",
    "top_5_items_df['Item Price'] = top_5_items_df['Item Price'].map('${0:,.2f}'.format)\n",
    "top_5_items_df['Total Purchase Value'] = top_5_items_df['Total Purchase Value'].map('${0:,.2f}'.format)\n",
    "top_5_items_df"
   ]
  },
  {
   "cell_type": "code",
   "execution_count": 42,
   "metadata": {},
   "outputs": [],
   "source": [
    "# Most Profitable Items"
   ]
  },
  {
   "cell_type": "code",
   "execution_count": 43,
   "metadata": {},
   "outputs": [
    {
     "data": {
      "text/plain": [
       "['Final Critic',\n",
       " 'Retribution Axe',\n",
       " 'Stormcaller',\n",
       " 'Spectral Diamond Doomblade',\n",
       " 'Orenmir']"
      ]
     },
     "execution_count": 43,
     "metadata": {},
     "output_type": "execute_result"
    }
   ],
   "source": [
    "# 5 most profitable items\n",
    "most_profitable_items_list = purchase_data_df.groupby(\"Item_Name\").sum().Price.nlargest(n=5).index.tolist()\n",
    "most_profitable_items_list\n"
   ]
  },
  {
   "cell_type": "code",
   "execution_count": 44,
   "metadata": {},
   "outputs": [
    {
     "data": {
      "text/plain": [
       "[92, 34, 30, 115, 32]"
      ]
     },
     "execution_count": 44,
     "metadata": {},
     "output_type": "execute_result"
    }
   ],
   "source": [
    "# Item ID\n",
    "prof_item_id_list = []\n",
    "\n",
    "for item_name in most_profitable_items_list:\n",
    "    item_something = purchase_data_df['Item_ID'].loc[purchase_data_df['Item_Name'] == item_name]\n",
    "    temp_id_list = item_something.tolist()\n",
    "    prof_item_id_list.append(temp_id_list[0])\n",
    "prof_item_id_list"
   ]
  },
  {
   "cell_type": "code",
   "execution_count": 45,
   "metadata": {},
   "outputs": [],
   "source": [
    "# Create Profitable Items Data Frame\n",
    "profitable_items_df = purchase_data_df[purchase_data_df.Item_Name.isin(most_profitable_items_list)]\n"
   ]
  },
  {
   "cell_type": "code",
   "execution_count": 46,
   "metadata": {},
   "outputs": [
    {
     "data": {
      "text/plain": [
       "[14, 9, 10, 7, 6]"
      ]
     },
     "execution_count": 46,
     "metadata": {},
     "output_type": "execute_result"
    }
   ],
   "source": [
    "#purchase count\n",
    "prof_items_purchase_count_list = []\n",
    "for item_name in most_profitable_items_list:\n",
    "    prof_items_purchase_count_list.append(profitable_items_df.Item_Name.value_counts()[item_name])\n",
    "prof_items_purchase_count_list"
   ]
  },
  {
   "cell_type": "code",
   "execution_count": 47,
   "metadata": {},
   "outputs": [
    {
     "data": {
      "text/plain": [
       "[1.3599999999999999, 4.14, 4.15, 4.25, 4.95]"
      ]
     },
     "execution_count": 47,
     "metadata": {},
     "output_type": "execute_result"
    }
   ],
   "source": [
    "#item price\n",
    "prof_item_price_list = []\n",
    "\n",
    "for item_name in most_profitable_items_list:\n",
    "    item_something = profitable_items_df['Price'].loc[profitable_items_df['Item_Name'] == item_name]\n",
    "    temp_price_list = item_something.tolist()\n",
    "    prof_item_price_list.append(temp_price_list[0])\n",
    "prof_item_price_list\n",
    "    "
   ]
  },
  {
   "cell_type": "code",
   "execution_count": 48,
   "metadata": {},
   "outputs": [
    {
     "data": {
      "text/plain": [
       "[38.599999999999994, 37.26, 34.65, 29.75, 29.7]"
      ]
     },
     "execution_count": 48,
     "metadata": {},
     "output_type": "execute_result"
    }
   ],
   "source": [
    "#total purchase value\n",
    "\n",
    "prof_item_purchase_value_list = []\n",
    "for item_name in most_profitable_items_list:\n",
    "    prof_item_purchase_value_list.append(profitable_items_df.groupby(\"Item_Name\").Price.sum()[item_name])\n",
    "prof_item_purchase_value_list\n",
    "\n",
    "\n"
   ]
  },
  {
   "cell_type": "code",
   "execution_count": 49,
   "metadata": {},
   "outputs": [
    {
     "data": {
      "text/html": [
       "<div>\n",
       "<style scoped>\n",
       "    .dataframe tbody tr th:only-of-type {\n",
       "        vertical-align: middle;\n",
       "    }\n",
       "\n",
       "    .dataframe tbody tr th {\n",
       "        vertical-align: top;\n",
       "    }\n",
       "\n",
       "    .dataframe thead th {\n",
       "        text-align: right;\n",
       "    }\n",
       "</style>\n",
       "<table border=\"1\" class=\"dataframe\">\n",
       "  <thead>\n",
       "    <tr style=\"text-align: right;\">\n",
       "      <th></th>\n",
       "      <th>Item Name</th>\n",
       "      <th>Purchase Count</th>\n",
       "      <th>Item Price</th>\n",
       "      <th>Total Purchase Value</th>\n",
       "    </tr>\n",
       "    <tr>\n",
       "      <th>Item ID</th>\n",
       "      <th></th>\n",
       "      <th></th>\n",
       "      <th></th>\n",
       "      <th></th>\n",
       "    </tr>\n",
       "  </thead>\n",
       "  <tbody>\n",
       "    <tr>\n",
       "      <th>92</th>\n",
       "      <td>Final Critic</td>\n",
       "      <td>14</td>\n",
       "      <td>$1.36</td>\n",
       "      <td>$38.60</td>\n",
       "    </tr>\n",
       "    <tr>\n",
       "      <th>34</th>\n",
       "      <td>Retribution Axe</td>\n",
       "      <td>11</td>\n",
       "      <td>$4.14</td>\n",
       "      <td>$37.26</td>\n",
       "    </tr>\n",
       "    <tr>\n",
       "      <th>30</th>\n",
       "      <td>Stormcaller</td>\n",
       "      <td>11</td>\n",
       "      <td>$4.15</td>\n",
       "      <td>$34.65</td>\n",
       "    </tr>\n",
       "    <tr>\n",
       "      <th>115</th>\n",
       "      <td>Spectral Diamond Doomblade</td>\n",
       "      <td>10</td>\n",
       "      <td>$4.25</td>\n",
       "      <td>$29.75</td>\n",
       "    </tr>\n",
       "    <tr>\n",
       "      <th>32</th>\n",
       "      <td>Orenmir</td>\n",
       "      <td>9</td>\n",
       "      <td>$4.95</td>\n",
       "      <td>$29.70</td>\n",
       "    </tr>\n",
       "  </tbody>\n",
       "</table>\n",
       "</div>"
      ],
      "text/plain": [
       "                          Item Name  Purchase Count Item Price  \\\n",
       "Item ID                                                          \n",
       "92                     Final Critic              14      $1.36   \n",
       "34                  Retribution Axe              11      $4.14   \n",
       "30                      Stormcaller              11      $4.15   \n",
       "115      Spectral Diamond Doomblade              10      $4.25   \n",
       "32                          Orenmir               9      $4.95   \n",
       "\n",
       "        Total Purchase Value  \n",
       "Item ID                       \n",
       "92                    $38.60  \n",
       "34                    $37.26  \n",
       "30                    $34.65  \n",
       "115                   $29.75  \n",
       "32                    $29.70  "
      ]
     },
     "execution_count": 49,
     "metadata": {},
     "output_type": "execute_result"
    }
   ],
   "source": [
    "# Most Profitable Items Table and Data Frame\n",
    "top_popular_items_table = [('Item ID', prof_item_id_list),\n",
    "                    ('Item Name', most_profitable_items_list),\n",
    "                    ('Purchase Count', pop_items_purchase_count_list.tolist()),\n",
    "                    ('Item Price', prof_item_price_list),\n",
    "                    ('Total Purchase Value', prof_item_purchase_value_list)]\n",
    "top_5_prof_items_df = pd.DataFrame.from_items(top_popular_items_table).sort_values(\"Total Purchase Value\", ascending=False).set_index(\"Item ID\")\n",
    "\n",
    "\n",
    "#top_5_prof_items_df[\"Item Price\"] = \n",
    "top_5_prof_items_df['Item Price'] = top_5_prof_items_df['Item Price'].map('${0:,.2f}'.format)\n",
    "top_5_prof_items_df['Total Purchase Value'] = top_5_prof_items_df['Total Purchase Value'].map('${0:,.2f}'.format)\n",
    "top_5_prof_items_df"
   ]
  },
  {
   "cell_type": "code",
   "execution_count": 50,
   "metadata": {},
   "outputs": [],
   "source": [
    "# Observable Trends\n",
    "# Males make up the vast majority of purchasers at over 80%.\n",
    "# The biggest spending is between the ages of 18 and 26. \n",
    "# Even the most popular item only has a purchase count of 14 out of 573 players which means that people are interested in a variety of items.  \n"
   ]
  },
  {
   "cell_type": "code",
   "execution_count": null,
   "metadata": {},
   "outputs": [],
   "source": []
  },
  {
   "cell_type": "code",
   "execution_count": null,
   "metadata": {},
   "outputs": [],
   "source": []
  }
 ],
 "metadata": {
  "kernelspec": {
   "display_name": "Python 3",
   "language": "python",
   "name": "python3"
  },
  "language_info": {
   "codemirror_mode": {
    "name": "ipython",
    "version": 3
   },
   "file_extension": ".py",
   "mimetype": "text/x-python",
   "name": "python",
   "nbconvert_exporter": "python",
   "pygments_lexer": "ipython3",
   "version": "3.6.3"
  }
 },
 "nbformat": 4,
 "nbformat_minor": 2
}
